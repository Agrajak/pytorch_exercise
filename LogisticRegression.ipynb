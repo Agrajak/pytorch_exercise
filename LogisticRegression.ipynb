{
 "cells": [
  {
   "cell_type": "code",
   "execution_count": 28,
   "metadata": {
    "scrolled": true
   },
   "outputs": [],
   "source": [
    "# pytorch 0.4.1 \n",
    "# https://pytorch.org/docs/stable/index.html\n",
    "\n",
    "# source code from https://github.com/yunjey/pytorch-tutorial/blob/master/tutorials/01-basics/logistic_regression/main.py#L33-L34\n",
    "\n",
    "from __future__ import print_function\n",
    "import numpy as np\n",
    "import torch\n",
    "import torch.nn as nn # https://pytorch.org/docs/stable/nn.html \n",
    "import torch.utils as utils\n",
    "import torchvision.transforms as transforms\n",
    "import torchvision.datasets as datasets\n",
    "import torchvision.models as models\n",
    "import matplotlib.pyplot as plt\n",
    "# from torch.autograd import Variable\n",
    "\n",
    "import copy\n",
    "\n",
    "input_size = 28*28\n",
    "num_classes = 10\n",
    "# MNIST 에 라벨이 0 to 9이므로 총 10개\n",
    "num_epochs = 5\n",
    "batch_size = 100\n",
    "\n",
    "# for SGD\n",
    "learning_rate = 0.001\n",
    "\n",
    "# pytorch 안에 내장되어있는 MNIST dataset를 불러온다.\n",
    "\n",
    "train_set = datasets.MNIST(root='./data', train=True, download=True, transform=transforms.ToTensor())\n",
    "train_loader = utils.data.DataLoader(train_set, batch_size=batch_size, shuffle=True, num_workers=2)\n",
    "\n",
    "test_set = datasets.MNIST(root=\"./data\", train=False, download=True, transform=transforms.ToTensor())\n",
    "test_loader = utils.data.DataLoader(test_set, batch_size=batch_size, shuffle=False, num_workers=2)\n",
    "\n"
   ]
  },
  {
   "cell_type": "markdown",
   "metadata": {},
   "source": [
    " - MNIST: http://yann.lecun.com/exdb/mnist/\n",
    " \n",
    " - Variable : Automatic differentiation package.\n",
    " Variable 클래스는 Tensor를 감싸고 있으며, Tensonr에 정의된 거의 모든 연산을 지원.\n",
    " 모든 계산을 마친 후에 .backward()를 호출하면 자동으로 모든 기울기가 계산된다. 그러나 현재 deprecated. 일반 Tensor(torch.randn(), torch.zeros(), torch.ones()에 require_grad=True)로도 사용가능하다.\n",
    " \n",
    " \n",
    " http://taewan.kim/trans/pytorch/tutorial/blits/02_autograd/\n",
    " https://pytorch.org/docs/stable/autograd.html#variable-deprecated\n",
    "\n",
    " \n",
    " ```python\n",
    "autograd_tensor = torch.randn((2,3,4), requires_grad=True)\n",
    " ```\n",
    " \n",
    " - torch.from_numpy(x)로 numpy로 만든 데이터를 Tensor로 컨버팅 가능하다.\n"
   ]
  },
  {
   "cell_type": "code",
   "execution_count": 7,
   "metadata": {},
   "outputs": [
    {
     "name": "stdout",
     "output_type": "stream",
     "text": [
      "train_set:  60000  test_set:  10000\n"
     ]
    }
   ],
   "source": [
    "print(\"train_set: \", len(train_set), \" test_set: \", len(test_set))"
   ]
  },
  {
   "cell_type": "code",
   "execution_count": 12,
   "metadata": {},
   "outputs": [],
   "source": [
    "# Model\n",
    "class LogisticRegression(nn.Module):\n",
    "    def __init__(self, input_size, num_classes):\n",
    "        super(LogisticRegression, self).__init__()\n",
    "        self.linear = nn.Linear(input_size, num_classes)\n",
    "    \n",
    "    def forward(self, x):\n",
    "        out = self.linear(x)\n",
    "        return out"
   ]
  },
  {
   "cell_type": "markdown",
   "metadata": {},
   "source": [
    " - nn.Linear :  Applies a linear transformation to the incoming data: \\\\[ y=xA^T+b \\\\] https://pytorch.org/docs/stable/nn.html?highlight=nn%20linear#torch.nn.Linear\n",
    " - torch.Tensor : https://pytorch.org/docs/stable/tensors.html\n",
    " - CrossEntropyLoss() : \n",
    " https://pytorch.org/docs/stable/nn.html?highlight=crossentropyloss#torch.nn.CrossEntropyLoss\n",
    " combines nn.LogSoftmax() and nn.NLLLoss()(negative log likelihood loss) in one single class\n",
    " \n",
    " \\\\[ loss(x,class)=−log({e^x[class] \\over ∑j e^x[j]}) \\\\]\n",
    " \n",
    " 아니면 좀 더 간단하게\n",
    "```python\n",
    "model = nn.Linear(input_size, num_classes)\n",
    "``` \n",
    "로도 구현가능."
   ]
  },
  {
   "cell_type": "code",
   "execution_count": 27,
   "metadata": {
    "scrolled": true
   },
   "outputs": [
    {
     "name": "stderr",
     "output_type": "stream",
     "text": [
      "/home/agrajak/anaconda3/envs/pytorch/lib/python3.6/site-packages/ipykernel_launcher.py:28: UserWarning: invalid index of a 0-dim tensor. This will be an error in PyTorch 0.5. Use tensor.item() to convert a 0-dim tensor to a Python number\n"
     ]
    },
    {
     "name": "stdout",
     "output_type": "stream",
     "text": [
      "Epoch: [1/5], Step: [100/600], Loss: 2.2381\n",
      "Epoch: [1/5], Step: [200/600], Loss: 2.1738\n",
      "Epoch: [1/5], Step: [300/600], Loss: 2.0742\n",
      "Epoch: [1/5], Step: [400/600], Loss: 1.9650\n",
      "Epoch: [1/5], Step: [500/600], Loss: 1.9123\n",
      "Epoch: [1/5], Step: [600/600], Loss: 1.8137\n",
      "Epoch: [2/5], Step: [100/600], Loss: 1.7538\n",
      "Epoch: [2/5], Step: [200/600], Loss: 1.7071\n",
      "Epoch: [2/5], Step: [300/600], Loss: 1.7373\n",
      "Epoch: [2/5], Step: [400/600], Loss: 1.6277\n",
      "Epoch: [2/5], Step: [500/600], Loss: 1.4991\n",
      "Epoch: [2/5], Step: [600/600], Loss: 1.5331\n",
      "Epoch: [3/5], Step: [100/600], Loss: 1.4048\n",
      "Epoch: [3/5], Step: [200/600], Loss: 1.4031\n",
      "Epoch: [3/5], Step: [300/600], Loss: 1.2109\n",
      "Epoch: [3/5], Step: [400/600], Loss: 1.3022\n",
      "Epoch: [3/5], Step: [500/600], Loss: 1.3035\n",
      "Epoch: [3/5], Step: [600/600], Loss: 1.2172\n",
      "Epoch: [4/5], Step: [100/600], Loss: 1.2289\n",
      "Epoch: [4/5], Step: [200/600], Loss: 1.2211\n",
      "Epoch: [4/5], Step: [300/600], Loss: 1.2091\n",
      "Epoch: [4/5], Step: [400/600], Loss: 1.1389\n",
      "Epoch: [4/5], Step: [500/600], Loss: 1.1471\n",
      "Epoch: [4/5], Step: [600/600], Loss: 1.1035\n",
      "Epoch: [5/5], Step: [100/600], Loss: 1.0173\n",
      "Epoch: [5/5], Step: [200/600], Loss: 1.1731\n",
      "Epoch: [5/5], Step: [300/600], Loss: 1.0969\n",
      "Epoch: [5/5], Step: [400/600], Loss: 1.0695\n",
      "Epoch: [5/5], Step: [500/600], Loss: 0.9843\n",
      "Epoch: [5/5], Step: [600/600], Loss: 0.9398\n",
      "Accuracy of the model on the 10000 test images: 82 %\n"
     ]
    }
   ],
   "source": [
    "model = LogisticRegression(input_size, num_classes)\n",
    "\n",
    "# Loss and Optimizer\n",
    "# Softmax is internally computed.\n",
    "# Set parameters to be updated.\n",
    "\n",
    "criterion = nn.CrossEntropyLoss()  \n",
    "optimizer = torch.optim.SGD(model.parameters(), lr=learning_rate)  \n",
    "\n",
    "# Training the Model\n",
    "for epoch in range(num_epochs):\n",
    "    for i, (images, labels) in enumerate(train_loader):\n",
    "\n",
    "        \n",
    "        \n",
    "        images = images.reshape(-1, input_size)\n",
    "        # the size -1 inferred from other dimention\n",
    "        \n",
    "        \n",
    "        # Variable()은 deprecated므로 사용하지 않는다.\n",
    "        images.requires_grad = True\n",
    "        \n",
    "        # Forward + Backward + Optimize\n",
    "\n",
    "        optimizer.zero_grad()\n",
    "        outputs = model(images)\n",
    "        loss = criterion(outputs, labels)\n",
    "        loss.backward()\n",
    "        optimizer.step()\n",
    "        \n",
    "        if (i+1) % 100 == 0:\n",
    "            print ('Epoch: [%d/%d], Step: [%d/%d], Loss: %.4f' \n",
    "                   % (epoch+1, num_epochs, i+1, len(train_set)//batch_size, loss.data[0]))\n",
    "\n",
    "# Test the Model\n",
    "correct = 0\n",
    "total = 0\n",
    "for images, labels in test_loader:\n",
    "    images = Variable(images.view(-1, input_size))\n",
    "    outputs = model(images)\n",
    "    _, predicted = torch.max(outputs.data, 1)\n",
    "    total += labels.size(0)\n",
    "    correct += (predicted == labels).sum()\n",
    "    \n",
    "print('Accuracy of the model on the 10000 test images: %d %%' % (100 * correct / total))"
   ]
  },
  {
   "cell_type": "code",
   "execution_count": 58,
   "metadata": {},
   "outputs": [],
   "source": [
    "# 저장\n",
    "torch.save(model.state_dict(), 'model.ckpt')"
   ]
  },
  {
   "cell_type": "code",
   "execution_count": 106,
   "metadata": {},
   "outputs": [
    {
     "data": {
      "image/png": "[encoded data removed]",
      "text/plain": [
       "<Figure size 432x288 with 25 Axes>"
      ]
     },
     "metadata": {
      "needs_background": "light"
     },
     "output_type": "display_data"
    }
   ],
   "source": [
    "#matplot 연습\n",
    "\n",
    "plot_batch_size = 25\n",
    "plot_test_loader = utils.data.DataLoader(test_set, batch_size=plot_batch_size, shuffle=True, num_workers=2)\n",
    "\n",
    "\n",
    "for images, labels in plot_test_loader:\n",
    "    fig, axs = plt.subplots(nrows=5, ncols=5)\n",
    "    \n",
    "    images = images.reshape(-1, 28*28)\n",
    "    outputs = model(images)\n",
    "    _, predicted = torch.max(outputs.data, 1)\n",
    "    \n",
    "    images = images.reshape(-1, 28, 28)\n",
    "    cnt = 0\n",
    "    for ax, i in zip(axs.flat, labels):\n",
    "        ax.imshow(images[cnt])\n",
    "        pre = predicted[cnt].data.tolist()\n",
    "        lab = labels[cnt].data.tolist()\n",
    "        ax.set_title(pre)\n",
    "        ax.set_axis_off()\n",
    "\n",
    "        ax.autoscale()\n",
    "        \n",
    "        cnt = cnt+1\n",
    "    \n",
    "    plt.show()\n",
    "    break\n",
    "    \n"
   ]
  },
  {
   "cell_type": "code",
   "execution_count": null,
   "metadata": {},
   "outputs": [],
   "source": []
  }
 ],
 "metadata": {
  "kernelspec": {
   "display_name": "PyTorch",
   "language": "python",
   "name": "pytorch"
  },
  "language_info": {
   "codemirror_mode": {
    "name": "ipython",
    "version": 3
   },
   "file_extension": ".py",
   "mimetype": "text/x-python",
   "name": "python",
   "nbconvert_exporter": "python",
   "pygments_lexer": "ipython3",
   "version": "3.6.7"
  }
 },
 "nbformat": 4,
 "nbformat_minor": 2
}
